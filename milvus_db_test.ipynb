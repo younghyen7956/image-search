{
 "cells": [
  {
   "cell_type": "code",
   "execution_count": 52,
   "id": "35067f7f-aa45-4cfb-bf88-c2234074fc7f",
   "metadata": {},
   "outputs": [
    {
     "name": "stdout",
     "output_type": "stream",
     "text": [
      "=== Milvus에 존재하는 컬렉션 목록 ===\n",
      "1. images\n"
     ]
    }
   ],
   "source": [
    "# Milvus 컬렉션 조회 및 Parquet 파일 저장 예시 (Jupyter Notebook)\n",
    "\n",
    "from pymilvus import (\n",
    "    connections,\n",
    "    utility,\n",
    "    Collection,\n",
    ")\n",
    "import numpy as np\n",
    "import pandas as pd\n",
    "\n",
    "# 1) Milvus 서버 연결\n",
    "connections.connect(\n",
    "    alias=\"default\",\n",
    "    host=\"localhost\",\n",
    "    port=\"19530\"\n",
    ")\n",
    "\n",
    "# 2) 모든 컬렉션 이름 리스트 확인\n",
    "print(\"=== Milvus에 존재하는 컬렉션 목록 ===\")\n",
    "all_collections = utility.list_collections()\n",
    "for idx, name in enumerate(all_collections, start=1):\n",
    "    print(f\"{idx}. {name}\")\n",
    "\n",
    "# # 3) 컬렉션 선택 인터랙티브 위젯 사용 (Jupyter Notebook 전용)\n",
    "# from ipywidgets import widgets, Layout\n",
    "# from IPython.display import display\n",
    "\n",
    "# # 드롭다운 위젯 생성\n",
    "# collection_dropdown = widgets.Dropdown(\n",
    "#     options=all_collections,\n",
    "#     description='컬렉션:',\n",
    "#     layout=Layout(width='50%')\n",
    "# )\n",
    "# display(collection_dropdown)"
   ]
  },
  {
   "cell_type": "code",
   "execution_count": null,
   "id": "bdc3c952-c5f3-4d6b-b791-346ac53daa07",
   "metadata": {},
   "outputs": [],
   "source": []
  },
  {
   "cell_type": "code",
   "execution_count": 47,
   "id": "daf43316-104b-41d3-9003-f93eb63a9a76",
   "metadata": {
    "scrolled": true
   },
   "outputs": [],
   "source": [
    "# Milvus 컬렉션 조회 및 동적 데이터 삽입 예시 (Jupyter Notebook)\n",
    "\n",
    "from pymilvus import (\n",
    "    connections,\n",
    "    utility,\n",
    "    Collection,\n",
    "    FieldSchema,\n",
    "    DataType,\n",
    "    MilvusClient\n",
    ")\n",
    "\n",
    "import numpy as np\n",
    "\n",
    "client = MilvusClient(host='localhost', port=3333)"
   ]
  },
  {
   "cell_type": "code",
   "execution_count": 9,
   "id": "0c157995-b7f2-4b3c-89bd-9472bec2d0db",
   "metadata": {
    "scrolled": true
   },
   "outputs": [
    {
     "data": {
      "text/plain": [
       "['images', 'test_collection']"
      ]
     },
     "execution_count": 9,
     "metadata": {},
     "output_type": "execute_result"
    }
   ],
   "source": [
    "client.list_collections()"
   ]
  },
  {
   "cell_type": "code",
   "execution_count": 12,
   "id": "464260ff-c308-4c1a-82dc-aaf9932beaa2",
   "metadata": {},
   "outputs": [],
   "source": [
    "col_name= \"test_collection\""
   ]
  },
  {
   "cell_type": "code",
   "execution_count": 22,
   "id": "83ae5af9-dd5b-4770-99b4-c9b50bfe2ef4",
   "metadata": {},
   "outputs": [],
   "source": [
    "index_params = client.prepare_index_params()\n",
    "\n",
    "# 3) IndexParams에 인덱스 설정 추가\n",
    "index_params.add_index(\n",
    "    field_name=\"embedding\",    # 벡터 필드명\n",
    "    index_type=\"IVF_FLAT\",     # 인덱스 타입\n",
    "    metric_type=\"COSINE\",      # 거리(metric) 유형\n",
    "    params={\"nlist\": 128}      # IVF_FLAT 전용 파라미터\n",
    ")\n",
    "\n",
    "# 4) 실제 인덱스 생성 호출\n",
    "client.create_index(\n",
    "    collection_name=col_name,\n",
    "    index_params=index_params,\n",
    "    sync=True                  # 동기 모드로 완전히 빌드될 때까지 대기\n",
    ")"
   ]
  },
  {
   "cell_type": "code",
   "execution_count": 23,
   "id": "5545d8ce-b4fb-47c5-bddf-cb12d22612da",
   "metadata": {
    "scrolled": true
   },
   "outputs": [],
   "source": [
    "client.load_collection(\n",
    "    collection_name=col_name,\n",
    "    load_fields=[\"id\", \"filename\",'embedding'], # Load only the specified fields\n",
    "    skip_load_dynamic_field=True # Skip loading the dynamic field\n",
    ")"
   ]
  },
  {
   "cell_type": "code",
   "execution_count": 51,
   "id": "fda3403e-a54b-40ca-ad37-94661e9f75bc",
   "metadata": {},
   "outputs": [
    {
     "name": "stdout",
     "output_type": "stream",
     "text": [
      "컬렉션 'test_collection' 생성됨.\n"
     ]
    }
   ],
   "source": [
    "# # 컬렉션 만들기\n",
    "# collection_name = \"test_collection\"\n",
    "# if not utility.has_collection(collection_name):\n",
    "#     fields = [\n",
    "#         FieldSchema(\n",
    "#             name=\"id\",\n",
    "#             dtype=DataType.INT64,\n",
    "#             is_primary=True,\n",
    "#             auto_id=False,\n",
    "#             description=\"기본 키\",\n",
    "#         ),\n",
    "#         FieldSchema(\n",
    "#             name=\"filename\",\n",
    "#             dtype=DataType.VARCHAR,\n",
    "#             max_length=256,\n",
    "#             description=\"파일 이름\",\n",
    "#         ),\n",
    "#         FieldSchema(\n",
    "#             name=\"embedding\",\n",
    "#             dtype=DataType.FLOAT_VECTOR,\n",
    "#             dim=128,\n",
    "#             description=\"임베딩 벡터\",\n",
    "#         ),\n",
    "#     ]\n",
    "#     schema = CollectionSchema(fields, description=\"테스트용 컬렉션 스키마\")\n",
    "#     test_col = Collection(\n",
    "#         name=collection_name,\n",
    "#         schema=schema,\n",
    "#         using=\"default\",\n",
    "#         shards_num=2,\n",
    "#     )\n",
    "#     print(f\"컬렉션 '{collection_name}' 생성됨.\")\n",
    "# else:\n",
    "#     print(f\"컬렉션 '{collection_name}' 이미 존재합니다.\")"
   ]
  },
  {
   "cell_type": "code",
   "execution_count": 54,
   "id": "dde86e22-bbb8-421c-88be-c221b7a0de99",
   "metadata": {},
   "outputs": [],
   "source": [
    "# if utility.has_collection(collection_name):\n",
    "#     utility.drop_collection(collection_name)\n",
    "#     print(f\"컬렉션 '{collection_name}' 이 성공적으로 삭제되었습니다.\")\n",
    "# else:\n",
    "#     print(f\"삭제할 컬렉션 '{collection_name}' 가 없습니다.\")"
   ]
  },
  {
   "cell_type": "code",
   "execution_count": null,
   "id": "85a7543d-ba50-4c52-b6ee-b805ce94181d",
   "metadata": {},
   "outputs": [],
   "source": []
  },
  {
   "cell_type": "code",
   "execution_count": 24,
   "id": "1d172eac-c46e-4608-8e29-eaab24d934e4",
   "metadata": {
    "scrolled": true
   },
   "outputs": [
    {
     "data": {
      "text/plain": [
       "{'insert_count': 1, 'ids': [200], 'cost': 0}"
      ]
     },
     "execution_count": 24,
     "metadata": {},
     "output_type": "execute_result"
    }
   ],
   "source": [
    "data = [\n",
    "    {\n",
    "        \"id\":            200,                     # INT64\n",
    "        \"filename\":      \"img_100.png\",           # VARCHAR\n",
    "        \"embedding\":     np.random.rand(128).tolist(),  # FLOAT_VECTOR\n",
    "    }\n",
    "]\n",
    "\n",
    "# 4) insert 호출\n",
    "res = client.insert(\n",
    "    collection_name=col_name,\n",
    "    data=data\n",
    ")\n",
    "\n",
    "res"
   ]
  },
  {
   "cell_type": "code",
   "execution_count": 25,
   "id": "85f8c8cc-0c16-420e-a0e5-5bf1ac5d970b",
   "metadata": {},
   "outputs": [
    {
     "name": "stdout",
     "output_type": "stream",
     "text": [
      "{'state': <LoadState: Loaded>}\n"
     ]
    }
   ],
   "source": [
    "res = client.get_load_state(\n",
    "    collection_name=col_name\n",
    ")\n",
    "\n",
    "print(res)"
   ]
  },
  {
   "cell_type": "code",
   "execution_count": 34,
   "id": "577c313f-17a6-4052-b232-60089ef08417",
   "metadata": {},
   "outputs": [
    {
     "name": "stdout",
     "output_type": "stream",
     "text": [
      "25\n",
      "{'auto_id': False, 'description': '테스트용 컬렉션 스키마', 'fields': [{'name': 'id', 'description': '기본 키', 'type': <DataType.INT64: 5>, 'is_primary': True, 'auto_id': False}, {'name': 'filename', 'description': '파일 이름', 'type': <DataType.VARCHAR: 21>, 'params': {'max_length': 256}}, {'name': 'embedding', 'description': '임베딩 벡터', 'type': <DataType.FLOAT_VECTOR: 101>, 'params': {'dim': 128}}], 'enable_dynamic_field': False}\n",
      "data: [\"{'id': 1, 'filename': 'filename_0', 'embedding': [0.30807522, 0.9442458, 0.31456813, 0.0033547555, 0.060718384, 0.23237507, 0.0041235783, 0.372246, 0.6687562, 0.1803126, 0.8560904, 0.82708395, 0.5066612, 0.24645224, 0.099753484, 0.8612459, 0.33135414, 0.88554686, 0.9805263, 0.16511753, 0.8476271, 0.2792158, 0.9924026, 0.5698289, 0.70872283, 0.15187828, 0.52347124, 0.27031213, 0.1825831, 0.5171643, 0.46563652, 0.6355188, 0.15775536, 0.5220429, 0.9270214, 0.9079603, 0.6851829, 0.8034762, 0.4167268, 0.5455673, 0.91903895, 0.15417121, 0.46069437, 0.855242, 0.77325106, 0.96812177, 0.78996843, 0.00812524, 0.78787094, 0.34690905, 0.3521242, 0.013205776, 0.46896526, 0.57440114, 0.36840296, 0.1673374, 0.49239403, 0.55736375, 0.42665932, 0.30162698, 0.15271133, 0.4990097, 0.35215315, 0.13780537, 0.0088345045, 0.28303093, 0.49131116, 0.6736974, 0.97571707, 0.425701, 0.5445615, 0.65634835, 0.33869278, 0.18247811, 0.099939145, 0.042307813, 0.41270283, 0.6842745, 0.46989536, 0.16685303, 0.62947065, 0.31708986, 0.98294765, 0.084644996, 0.094351396, 0.76596385, 0.24233788, 0.6035106, 0.87208265, 0.9028676, 0.35529968, 0.3726829, 0.835784, 0.8479618, 0.20423621, 0.68586504, 0.6161873, 0.8821021, 0.49841836, 0.96419185, 0.6437517, 0.7798658, 0.40436754, 0.66908926, 0.7112011, 0.26108167, 0.46620378, 0.97538054, 0.4502471, 0.6618635, 0.55103487, 0.37389696, 0.14844632, 0.3559594, 0.40135875, 0.43996087, 0.92491573, 0.9043365, 0.14600566, 0.40378907, 0.5232455, 0.7549402, 0.8856525, 0.5222653, 0.016135177, 0.4660636, 0.44553763, 0.94914365]}\", \"{'id': 3, 'filename': 'filename_2', 'embedding': [0.17779759, 0.07155126, 0.766177, 0.3836402, 0.2885086, 0.7516351, 0.13707913, 0.43008733, 0.06358014, 0.66984195, 0.47227472, 0.034897454, 0.6349406, 0.50777566, 0.22811368, 0.9143991, 0.6706085, 0.94923455, 0.49376127, 0.4692787, 0.8165275, 0.52548325, 0.09050169, 0.26420227, 0.5070044, 0.784577, 0.5223146, 0.086029366, 0.7193427, 0.50179684, 0.004260204, 0.7947565, 0.8089738, 0.3555522, 0.15617694, 0.2175428, 0.08543198, 0.43132508, 0.6955069, 0.5851578, 0.1512274, 0.9783692, 0.046754785, 0.6288258, 0.3064614, 0.5535124, 0.041637193, 0.38075113, 0.16196616, 0.56285447, 0.15205485, 0.5393549, 0.383937, 0.95446503, 0.9216874, 0.34600458, 0.3233388, 0.47034508, 0.46986282, 0.9202345, 0.48018587, 0.8409836, 0.054341573, 0.812341, 0.7608032, 0.24435505, 0.09536625, 0.22473018, 0.75344163, 0.92131644, 0.16785996, 0.4699629, 0.6830672, 0.7030592, 0.61503947, 0.7909848, 0.0116555225, 0.48257375, 0.27714947, 0.16117088, 0.78512824, 0.7905725, 0.24125889, 0.5314804, 0.26680565, 0.66874033, 0.034510247, 0.32576716, 0.9917241, 0.21805654, 0.7504592, 0.6477063, 0.11148021, 0.0069161686, 0.04547408, 0.8108362, 0.48556846, 0.72419214, 0.9776796, 0.36449423, 0.6237905, 0.2953244, 0.55821687, 0.3898004, 0.79529536, 0.54101264, 0.10639053, 0.31961134, 0.21567665, 0.67226636, 0.19235803, 0.1995666, 0.68719, 0.4202214, 0.52501345, 0.20158857, 0.6340346, 0.81601256, 0.41330528, 0.023895308, 0.14450319, 0.27016097, 0.005369371, 0.04018692, 0.71938974, 0.018480169, 0.7161925, 0.84876555]}\"]\n"
     ]
    }
   ],
   "source": [
    "from pymilvus import Collection\n",
    "\n",
    "col = Collection(\"test_collection\")\n",
    "\n",
    "# ① 컬렉션에 실제 저장된 엔티티 수\n",
    "print(col.num_entities)    # int\n",
    "\n",
    "# ② 스키마(필드 정보) 확인\n",
    "print(col.schema)\n",
    "\n",
    "# ③ 간단한 쿼리로 실제 내용을 살짝 들여다보기\n",
    "#    예: id가 0 이상인 첫 5개 행 가져오기\n",
    "results = col.query(\n",
    "    expr=\"id>0\",\n",
    "    output_fields=[\"id\",\"filename\",'embedding'],\n",
    "    limit=5\n",
    ")\n",
    "print(results)   # [{'id': 1, 'filename': 'img1.jpg'}, …]"
   ]
  },
  {
   "cell_type": "code",
   "execution_count": null,
   "id": "25620a76-e7eb-43f4-bf88-dec0a60323d4",
   "metadata": {},
   "outputs": [],
   "source": []
  },
  {
   "cell_type": "code",
   "execution_count": 35,
   "id": "da0ce4c2-f735-4296-8f7c-8c7b282f2c60",
   "metadata": {},
   "outputs": [
    {
     "data": {
      "text/plain": [
       "{'upsert_count': 1, 'cost': 0}"
      ]
     },
     "execution_count": 35,
     "metadata": {},
     "output_type": "execute_result"
    }
   ],
   "source": [
    "data = [\n",
    "    {\n",
    "        \"id\":            1,                     # INT64\n",
    "        \"filename\":      \"img_300.png\",           # VARCHAR\n",
    "        \"embedding\":     np.random.rand(128).tolist(),  # FLOAT_VECTOR\n",
    "    }\n",
    "]\n",
    "\n",
    "# 4) insert 호출\n",
    "res = client.upsert(\n",
    "    collection_name=col_name,\n",
    "    data=data\n",
    ")\n",
    "\n",
    "res"
   ]
  },
  {
   "cell_type": "code",
   "execution_count": 37,
   "id": "7e9ec181-4059-470a-8304-a2ac9dc00455",
   "metadata": {},
   "outputs": [
    {
     "name": "stdout",
     "output_type": "stream",
     "text": [
      "data: [\"{'id': 1, 'filename': 'img_300.png', 'embedding': [0.825905, 0.79972094, 0.91773266, 0.5064248, 0.40132236, 0.5383646, 0.10380822, 0.08179004, 0.20847358, 0.75837123, 0.4368953, 0.6386708, 0.43984187, 0.9555287, 0.029556133, 0.26269972, 0.90382165, 0.9704297, 0.18944234, 0.70308393, 0.8107239, 0.20228821, 0.53722167, 0.9172774, 0.84055734, 0.5689862, 0.04404725, 0.9457807, 0.15538996, 0.879912, 0.41422054, 0.9535921, 0.74553686, 0.31296408, 0.3578892, 0.4419021, 0.47498137, 0.029958632, 0.2688308, 0.21585464, 0.6741697, 0.34661758, 0.61295885, 0.67650217, 0.032911442, 0.32876682, 0.78722125, 0.8835573, 0.06497636, 0.33290797, 0.8102243, 0.48820272, 0.09302919, 0.104013935, 0.9014799, 0.90882736, 0.63667953, 0.36317152, 0.9302369, 0.19153634, 0.7307174, 0.9396004, 0.85466534, 0.98857147, 0.45665783, 0.6573568, 0.76245296, 0.66109306, 0.5511565, 0.3303178, 0.7052476, 0.43945882, 0.5879226, 0.558517, 0.7669795, 0.36165977, 0.07194951, 0.34389937, 0.5619882, 0.8566826, 0.56626326, 0.8323531, 0.21776408, 0.7714391, 0.8576714, 0.76168126, 0.3042328, 0.5906943, 0.5322017, 0.076602004, 0.36205631, 0.6432582, 0.09132814, 0.41401356, 0.52907705, 0.78622454, 0.98750734, 0.72413033, 0.971445, 0.40116003, 0.9011316, 0.21959187, 0.9792141, 0.67242026, 0.7949646, 0.22509359, 0.24890657, 0.35916835, 0.9624867, 0.8721026, 0.76854515, 0.38456798, 0.5388769, 0.19188799, 0.13944903, 0.9012476, 0.7542956, 0.3472085, 0.85201836, 0.07372223, 0.9341118, 0.6251924, 0.3823854, 0.5695193, 0.37225974, 0.039688602, 0.5669987, 0.68520147]}\"]\n"
     ]
    }
   ],
   "source": [
    "results = col.query(\n",
    "    expr=\"id==1\",\n",
    "    output_fields=[\"id\",\"filename\",'embedding'],\n",
    "    limit=5\n",
    ")\n",
    "print(results)"
   ]
  },
  {
   "cell_type": "code",
   "execution_count": 44,
   "id": "d042523a-6106-4f3f-a57a-157944dbe4ae",
   "metadata": {},
   "outputs": [
    {
     "name": "stdout",
     "output_type": "stream",
     "text": [
      "{'delete_count': 5}\n"
     ]
    }
   ],
   "source": [
    "res = client.delete(\n",
    "    collection_name=col_name,\n",
    "    ids=[1,2,3,100,200]\n",
    ")\n",
    "\n",
    "print(res)"
   ]
  },
  {
   "cell_type": "code",
   "execution_count": 45,
   "id": "f07e166e-eb69-4fe9-9359-ff390549be22",
   "metadata": {},
   "outputs": [
    {
     "data": {
      "text/plain": [
       "data: []"
      ]
     },
     "execution_count": 45,
     "metadata": {},
     "output_type": "execute_result"
    }
   ],
   "source": [
    "col.query(\n",
    "    expr=\"id>0\",\n",
    "    output_fields=[\"id\",\"filename\",'embedding'],\n",
    "    limit=5\n",
    ")"
   ]
  },
  {
   "cell_type": "code",
   "execution_count": 50,
   "id": "6ef22ebd-dd80-4b1c-9fca-928f730ed52e",
   "metadata": {},
   "outputs": [
    {
     "name": "stdout",
     "output_type": "stream",
     "text": [
      "Help on method drop_collection in module pymilvus.milvus_client.milvus_client:\n",
      "\n",
      "drop_collection(collection_name: str, timeout: Optional[float] = None, **kwargs) method of pymilvus.milvus_client.milvus_client.MilvusClient instance\n",
      "    Delete the collection stored in this object\n",
      "\n"
     ]
    }
   ],
   "source": [
    "help(client.drop_collection)"
   ]
  },
  {
   "cell_type": "code",
   "execution_count": 51,
   "id": "c35c7ce2-8849-4e0f-9ea9-65d53a50f187",
   "metadata": {},
   "outputs": [],
   "source": [
    "client.drop_collection(collection_name=col_name)"
   ]
  },
  {
   "cell_type": "code",
   "execution_count": 53,
   "id": "095fe586-5403-4fec-a476-60bda1c8b354",
   "metadata": {},
   "outputs": [
    {
     "ename": "ParamError",
     "evalue": "<ParamError: (code=1, message=wrong type of argument [index_params], expected type: [IndexParams], got type: [dict])>",
     "output_type": "error",
     "traceback": [
      "\u001b[0;31m---------------------------------------------------------------------------\u001b[0m",
      "\u001b[0;31mParamError\u001b[0m                                Traceback (most recent call last)",
      "Cell \u001b[0;32mIn[53], line 32\u001b[0m\n\u001b[1;32m     25\u001b[0m schema\u001b[38;5;241m.\u001b[39madd_field(\n\u001b[1;32m     26\u001b[0m     field_name\u001b[38;5;241m=\u001b[39m\u001b[38;5;124m\"\u001b[39m\u001b[38;5;124mfilename\u001b[39m\u001b[38;5;124m\"\u001b[39m,\n\u001b[1;32m     27\u001b[0m     datatype\u001b[38;5;241m=\u001b[39mDataType\u001b[38;5;241m.\u001b[39mVARCHAR,\n\u001b[1;32m     28\u001b[0m     max_length\u001b[38;5;241m=\u001b[39m\u001b[38;5;241m512\u001b[39m\n\u001b[1;32m     29\u001b[0m )\n\u001b[1;32m     31\u001b[0m \u001b[38;5;66;03m# 4) 컬렉션 생성\u001b[39;00m\n\u001b[0;32m---> 32\u001b[0m \u001b[43mclient\u001b[49m\u001b[38;5;241;43m.\u001b[39;49m\u001b[43mcreate_collection\u001b[49m\u001b[43m(\u001b[49m\n\u001b[1;32m     33\u001b[0m \u001b[43m    \u001b[49m\u001b[43mcollection_name\u001b[49m\u001b[38;5;241;43m=\u001b[39;49m\u001b[38;5;124;43m\"\u001b[39;49m\u001b[38;5;124;43mtest\u001b[39;49m\u001b[38;5;124;43m\"\u001b[39;49m\u001b[43m,\u001b[49m\n\u001b[1;32m     34\u001b[0m \u001b[43m    \u001b[49m\u001b[43mschema\u001b[49m\u001b[38;5;241;43m=\u001b[39;49m\u001b[43mschema\u001b[49m\u001b[43m,\u001b[49m\n\u001b[1;32m     35\u001b[0m \u001b[43m    \u001b[49m\u001b[43mindex_params\u001b[49m\u001b[38;5;241;43m=\u001b[39;49m\u001b[43m{\u001b[49m\n\u001b[1;32m     36\u001b[0m \u001b[43m        \u001b[49m\u001b[38;5;124;43m\"\u001b[39;49m\u001b[38;5;124;43mindex_type\u001b[39;49m\u001b[38;5;124;43m\"\u001b[39;49m\u001b[43m:\u001b[49m\u001b[43m \u001b[49m\u001b[38;5;124;43m\"\u001b[39;49m\u001b[38;5;124;43mIVF_FLAT\u001b[39;49m\u001b[38;5;124;43m\"\u001b[39;49m\u001b[43m,\u001b[49m\n\u001b[1;32m     37\u001b[0m \u001b[43m        \u001b[49m\u001b[38;5;124;43m\"\u001b[39;49m\u001b[38;5;124;43mmetric_type\u001b[39;49m\u001b[38;5;124;43m\"\u001b[39;49m\u001b[43m:\u001b[49m\u001b[43m \u001b[49m\u001b[38;5;124;43m\"\u001b[39;49m\u001b[38;5;124;43mCOSINE\u001b[39;49m\u001b[38;5;124;43m\"\u001b[39;49m\u001b[43m,\u001b[49m\n\u001b[1;32m     38\u001b[0m \u001b[43m        \u001b[49m\u001b[38;5;124;43m\"\u001b[39;49m\u001b[38;5;124;43mparams\u001b[39;49m\u001b[38;5;124;43m\"\u001b[39;49m\u001b[43m:\u001b[49m\u001b[43m \u001b[49m\u001b[43m{\u001b[49m\u001b[38;5;124;43m\"\u001b[39;49m\u001b[38;5;124;43mnlist\u001b[39;49m\u001b[38;5;124;43m\"\u001b[39;49m\u001b[43m:\u001b[49m\u001b[43m \u001b[49m\u001b[38;5;241;43m128\u001b[39;49m\u001b[43m}\u001b[49m\n\u001b[1;32m     39\u001b[0m \u001b[43m    \u001b[49m\u001b[43m}\u001b[49m\n\u001b[1;32m     40\u001b[0m \u001b[43m)\u001b[49m\n",
      "File \u001b[0;32m~/Desktop/PythonProject/.venv/lib/python3.10/site-packages/pymilvus/milvus_client/milvus_client.py:96\u001b[0m, in \u001b[0;36mMilvusClient.create_collection\u001b[0;34m(self, collection_name, dimension, primary_field_name, id_type, vector_field_name, metric_type, auto_id, timeout, schema, index_params, **kwargs)\u001b[0m\n\u001b[1;32m     83\u001b[0m \u001b[38;5;28;01mif\u001b[39;00m schema \u001b[38;5;129;01mis\u001b[39;00m \u001b[38;5;28;01mNone\u001b[39;00m:\n\u001b[1;32m     84\u001b[0m     \u001b[38;5;28;01mreturn\u001b[39;00m \u001b[38;5;28mself\u001b[39m\u001b[38;5;241m.\u001b[39m_fast_create_collection(\n\u001b[1;32m     85\u001b[0m         collection_name,\n\u001b[1;32m     86\u001b[0m         dimension,\n\u001b[0;32m   (...)\u001b[0m\n\u001b[1;32m     93\u001b[0m         \u001b[38;5;241m*\u001b[39m\u001b[38;5;241m*\u001b[39mkwargs,\n\u001b[1;32m     94\u001b[0m     )\n\u001b[0;32m---> 96\u001b[0m \u001b[38;5;28;01mreturn\u001b[39;00m \u001b[38;5;28;43mself\u001b[39;49m\u001b[38;5;241;43m.\u001b[39;49m\u001b[43m_create_collection_with_schema\u001b[49m\u001b[43m(\u001b[49m\n\u001b[1;32m     97\u001b[0m \u001b[43m    \u001b[49m\u001b[43mcollection_name\u001b[49m\u001b[43m,\u001b[49m\u001b[43m \u001b[49m\u001b[43mschema\u001b[49m\u001b[43m,\u001b[49m\u001b[43m \u001b[49m\u001b[43mindex_params\u001b[49m\u001b[43m,\u001b[49m\u001b[43m \u001b[49m\u001b[43mtimeout\u001b[49m\u001b[38;5;241;43m=\u001b[39;49m\u001b[43mtimeout\u001b[49m\u001b[43m,\u001b[49m\u001b[43m \u001b[49m\u001b[38;5;241;43m*\u001b[39;49m\u001b[38;5;241;43m*\u001b[39;49m\u001b[43mkwargs\u001b[49m\n\u001b[1;32m     98\u001b[0m \u001b[43m\u001b[49m\u001b[43m)\u001b[49m\n",
      "File \u001b[0;32m~/Desktop/PythonProject/.venv/lib/python3.10/site-packages/pymilvus/milvus_client/milvus_client.py:892\u001b[0m, in \u001b[0;36mMilvusClient._create_collection_with_schema\u001b[0;34m(self, collection_name, schema, index_params, timeout, **kwargs)\u001b[0m\n\u001b[1;32m    889\u001b[0m     \u001b[38;5;28;01mraise\u001b[39;00m ex \u001b[38;5;28;01mfrom\u001b[39;00m\u001b[38;5;250m \u001b[39m\u001b[38;5;21;01mex\u001b[39;00m\n\u001b[1;32m    891\u001b[0m \u001b[38;5;28;01mif\u001b[39;00m index_params:\n\u001b[0;32m--> 892\u001b[0m     \u001b[38;5;28;43mself\u001b[39;49m\u001b[38;5;241;43m.\u001b[39;49m\u001b[43mcreate_index\u001b[49m\u001b[43m(\u001b[49m\u001b[43mcollection_name\u001b[49m\u001b[43m,\u001b[49m\u001b[43m \u001b[49m\u001b[43mindex_params\u001b[49m\u001b[43m,\u001b[49m\u001b[43m \u001b[49m\u001b[43mtimeout\u001b[49m\u001b[38;5;241;43m=\u001b[39;49m\u001b[43mtimeout\u001b[49m\u001b[43m)\u001b[49m\n\u001b[1;32m    893\u001b[0m     \u001b[38;5;28mself\u001b[39m\u001b[38;5;241m.\u001b[39mload_collection(collection_name, timeout\u001b[38;5;241m=\u001b[39mtimeout)\n",
      "File \u001b[0;32m~/Desktop/PythonProject/.venv/lib/python3.10/site-packages/pymilvus/milvus_client/milvus_client.py:157\u001b[0m, in \u001b[0;36mMilvusClient.create_index\u001b[0;34m(self, collection_name, index_params, timeout, **kwargs)\u001b[0m\n\u001b[1;32m    149\u001b[0m \u001b[38;5;28;01mdef\u001b[39;00m\u001b[38;5;250m \u001b[39m\u001b[38;5;21mcreate_index\u001b[39m(\n\u001b[1;32m    150\u001b[0m     \u001b[38;5;28mself\u001b[39m,\n\u001b[1;32m    151\u001b[0m     collection_name: \u001b[38;5;28mstr\u001b[39m,\n\u001b[0;32m   (...)\u001b[0m\n\u001b[1;32m    154\u001b[0m     \u001b[38;5;241m*\u001b[39m\u001b[38;5;241m*\u001b[39mkwargs,\n\u001b[1;32m    155\u001b[0m ):\n\u001b[1;32m    156\u001b[0m     validate_param(\u001b[38;5;124m\"\u001b[39m\u001b[38;5;124mcollection_name\u001b[39m\u001b[38;5;124m\"\u001b[39m, collection_name, \u001b[38;5;28mstr\u001b[39m)\n\u001b[0;32m--> 157\u001b[0m     \u001b[43mvalidate_param\u001b[49m\u001b[43m(\u001b[49m\u001b[38;5;124;43m\"\u001b[39;49m\u001b[38;5;124;43mindex_params\u001b[39;49m\u001b[38;5;124;43m\"\u001b[39;49m\u001b[43m,\u001b[49m\u001b[43m \u001b[49m\u001b[43mindex_params\u001b[49m\u001b[43m,\u001b[49m\u001b[43m \u001b[49m\u001b[43mIndexParams\u001b[49m\u001b[43m)\u001b[49m\n\u001b[1;32m    158\u001b[0m     \u001b[38;5;28;01mif\u001b[39;00m \u001b[38;5;28mlen\u001b[39m(index_params) \u001b[38;5;241m==\u001b[39m \u001b[38;5;241m0\u001b[39m:\n\u001b[1;32m    159\u001b[0m         \u001b[38;5;28;01mraise\u001b[39;00m ParamError(message\u001b[38;5;241m=\u001b[39m\u001b[38;5;124m\"\u001b[39m\u001b[38;5;124mIndexParams is empty, no index can be created\u001b[39m\u001b[38;5;124m\"\u001b[39m)\n",
      "File \u001b[0;32m~/Desktop/PythonProject/.venv/lib/python3.10/site-packages/pymilvus/milvus_client/check.py:25\u001b[0m, in \u001b[0;36mvalidate_param\u001b[0;34m(param_name, param, expected_type)\u001b[0m\n\u001b[1;32m     19\u001b[0m \u001b[38;5;28;01mif\u001b[39;00m \u001b[38;5;129;01mnot\u001b[39;00m \u001b[38;5;28misinstance\u001b[39m(param, expected_type):\n\u001b[1;32m     20\u001b[0m     msg \u001b[38;5;241m=\u001b[39m (\n\u001b[1;32m     21\u001b[0m         \u001b[38;5;124mf\u001b[39m\u001b[38;5;124m\"\u001b[39m\u001b[38;5;124mwrong type of argument [\u001b[39m\u001b[38;5;132;01m{\u001b[39;00mparam_name\u001b[38;5;132;01m}\u001b[39;00m\u001b[38;5;124m], \u001b[39m\u001b[38;5;124m\"\u001b[39m\n\u001b[1;32m     22\u001b[0m         \u001b[38;5;124mf\u001b[39m\u001b[38;5;124m\"\u001b[39m\u001b[38;5;124mexpected type: [\u001b[39m\u001b[38;5;132;01m{\u001b[39;00mexpected_type\u001b[38;5;241m.\u001b[39m\u001b[38;5;18m__name__\u001b[39m\u001b[38;5;132;01m}\u001b[39;00m\u001b[38;5;124m], \u001b[39m\u001b[38;5;124m\"\u001b[39m\n\u001b[1;32m     23\u001b[0m         \u001b[38;5;124mf\u001b[39m\u001b[38;5;124m\"\u001b[39m\u001b[38;5;124mgot type: [\u001b[39m\u001b[38;5;132;01m{\u001b[39;00m\u001b[38;5;28mtype\u001b[39m(param)\u001b[38;5;241m.\u001b[39m\u001b[38;5;18m__name__\u001b[39m\u001b[38;5;132;01m}\u001b[39;00m\u001b[38;5;124m]\u001b[39m\u001b[38;5;124m\"\u001b[39m\n\u001b[1;32m     24\u001b[0m     )\n\u001b[0;32m---> 25\u001b[0m     \u001b[38;5;28;01mraise\u001b[39;00m ParamError(message\u001b[38;5;241m=\u001b[39mmsg)\n",
      "\u001b[0;31mParamError\u001b[0m: <ParamError: (code=1, message=wrong type of argument [index_params], expected type: [IndexParams], got type: [dict])>"
     ]
    }
   ],
   "source": [
    "from pymilvus import MilvusClient, DataType\n",
    "\n",
    "client = MilvusClient(uri=\"http://localhost:19530\")\n",
    "\n",
    "# 1) 스키마 레벨에서 auto_id=True 켜기\n",
    "schema = client.create_schema(\n",
    "    auto_id=True,               # Milvus가 id를 자동으로 생성\n",
    "    enable_dynamic_field=True,\n",
    ")\n",
    "\n",
    "# 2) 자동 PK 필드 추가 (이 필드는 JSON에서 보내지 않습니다)\n",
    "schema.add_field(\n",
    "    field_name=\"id\",            # PK 이름\n",
    "    datatype=DataType.INT64,\n",
    "    is_primary=True,\n",
    "    auto_id=True                # ← 필수!\n",
    ")\n",
    "\n",
    "# 3) 나머지 필드 추가\n",
    "schema.add_field(\n",
    "    field_name=\"embedding\",\n",
    "    datatype=DataType.FLOAT_VECTOR,\n",
    "    dim=4                        # 예시: 차원 4\n",
    ")\n",
    "schema.add_field(\n",
    "    field_name=\"filename\",\n",
    "    datatype=DataType.VARCHAR,\n",
    "    max_length=512\n",
    ")\n",
    "\n",
    "# 4) 컬렉션 생성\n",
    "client.create_collection(\n",
    "    collection_name=\"test\",\n",
    "    schema=schema,\n",
    "    index_params={\n",
    "        \"index_type\": \"IVF_FLAT\",\n",
    "        \"metric_type\": \"COSINE\",\n",
    "        \"params\": {\"nlist\": 128}\n",
    "    }\n",
    ")"
   ]
  },
  {
   "cell_type": "code",
   "execution_count": null,
   "id": "c4cc24ba-5bfc-4336-8e57-7aca7ccc0300",
   "metadata": {},
   "outputs": [],
   "source": []
  }
 ],
 "metadata": {
  "kernelspec": {
   "display_name": "Python (.venv)",
   "language": "python",
   "name": "pjvenv"
  },
  "language_info": {
   "codemirror_mode": {
    "name": "ipython",
    "version": 3
   },
   "file_extension": ".py",
   "mimetype": "text/x-python",
   "name": "python",
   "nbconvert_exporter": "python",
   "pygments_lexer": "ipython3",
   "version": "3.10.11"
  }
 },
 "nbformat": 4,
 "nbformat_minor": 5
}
