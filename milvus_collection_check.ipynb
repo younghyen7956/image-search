{
 "cells": [
  {
   "cell_type": "code",
   "execution_count": 3,
   "id": "8ff99a9e-8d10-4d83-8681-f4506bb2bdb4",
   "metadata": {},
   "outputs": [
    {
     "name": "stdout",
     "output_type": "stream",
     "text": [
      "현재 Milvus 컬렉션 목록: ['images']\n"
     ]
    }
   ],
   "source": [
    "# 1. pymilvus 패키지 설치가 안 되어 있다면 먼저:\n",
    "#    pip install pymilvus\n",
    "\n",
    "from pymilvus import connections, utility\n",
    "\n",
    "# 2. Milvus 서버에 연결\n",
    "#    기본 alias는 \"default\"이며, host와 port를 실제 환경에 맞게 수정하세요.\n",
    "connections.connect(\n",
    "    alias=\"default\",\n",
    "    host=\"localhost\",   # Milvus 서버 호스트\n",
    "    port=\"19530\"        # Milvus 서버 포트\n",
    ")\n",
    "\n",
    "# 3. 컬렉션 목록 조회\n",
    "collections = utility.list_collections()\n",
    "print(\"현재 Milvus 컬렉션 목록:\", collections)"
   ]
  },
  {
   "cell_type": "code",
   "execution_count": null,
   "id": "77a75c89-e136-40b5-af71-0c380a97af48",
   "metadata": {},
   "outputs": [],
   "source": []
  }
 ],
 "metadata": {
  "kernelspec": {
   "display_name": "Python (.venv)",
   "language": "python",
   "name": "pjvenv"
  },
  "language_info": {
   "codemirror_mode": {
    "name": "ipython",
    "version": 3
   },
   "file_extension": ".py",
   "mimetype": "text/x-python",
   "name": "python",
   "nbconvert_exporter": "python",
   "pygments_lexer": "ipython3",
   "version": "3.10.11"
  }
 },
 "nbformat": 4,
 "nbformat_minor": 5
}
