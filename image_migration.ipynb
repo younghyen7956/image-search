{
 "cells": [
  {
   "cell_type": "code",
   "execution_count": 2,
   "id": "352b8584-cce7-4c89-9311-3f998f806a6d",
   "metadata": {},
   "outputs": [
    {
     "name": "stdout",
     "output_type": "stream",
     "text": [
      "모든 이미지를 '/Users/gim-yonghyeon/Desktop/practice/database/all_images'에 모았습니다. 총 12813개 파일\n"
     ]
    }
   ],
   "source": [
    "import os\n",
    "import shutil\n",
    "\n",
    "# 1) 원본 최상위 폴더와, 이미지를 모아둘 대상 폴더 경로 설정\n",
    "source_root = '/Users/gim-yonghyeon/Desktop/practice/database/train'\n",
    "dest_dir    = '/Users/gim-yonghyeon/Desktop/practice/database/all_images'\n",
    "\n",
    "# 2) 대상 폴더가 없으면 생성\n",
    "os.makedirs(dest_dir, exist_ok=True)\n",
    "\n",
    "# 3) 허용할 이미지 확장자 목록\n",
    "img_exts = ('.jpg', '.jpeg', '.png', '.bmp', '.gif')\n",
    "\n",
    "# 4) 재귀적으로 원본 폴더 순회하며 이미지 파일만 복사\n",
    "for dirpath, _, filenames in os.walk(source_root):\n",
    "    for fn in filenames:\n",
    "        if fn.lower().endswith(img_exts):\n",
    "            src_path = os.path.join(dirpath, fn)\n",
    "            \n",
    "            # 이름 충돌 방지: 동일 이름이 존재하면 뒤에 숫자 붙이기\n",
    "            dst_name = fn\n",
    "            base, ext = os.path.splitext(fn)\n",
    "            counter = 1\n",
    "            while os.path.exists(os.path.join(dest_dir, dst_name)):\n",
    "                dst_name = f\"{base}_{counter}{ext}\"\n",
    "                counter += 1\n",
    "            \n",
    "            dst_path = os.path.join(dest_dir, dst_name)\n",
    "            shutil.copy2(src_path, dst_path)   # 복사. 이동하려면 copy2 → move로 변경\n",
    "            \n",
    "print(f\"모든 이미지를 '{dest_dir}'에 모았습니다. 총 {len(os.listdir(dest_dir))}개 파일\")            "
   ]
  },
  {
   "cell_type": "code",
   "execution_count": null,
   "id": "00006b9d-bd89-4490-ad98-87bc12c2364c",
   "metadata": {},
   "outputs": [],
   "source": []
  },
  {
   "cell_type": "code",
   "execution_count": null,
   "id": "50b2416d-6493-485a-bb37-9ecf5b367615",
   "metadata": {},
   "outputs": [],
   "source": []
  }
 ],
 "metadata": {
  "kernelspec": {
   "display_name": "Python (.venv)",
   "language": "python",
   "name": "pjvenv"
  },
  "language_info": {
   "codemirror_mode": {
    "name": "ipython",
    "version": 3
   },
   "file_extension": ".py",
   "mimetype": "text/x-python",
   "name": "python",
   "nbconvert_exporter": "python",
   "pygments_lexer": "ipython3",
   "version": "3.10.11"
  }
 },
 "nbformat": 4,
 "nbformat_minor": 5
}
